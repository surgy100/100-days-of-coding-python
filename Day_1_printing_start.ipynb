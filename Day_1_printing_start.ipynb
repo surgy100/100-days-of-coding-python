{
  "nbformat": 4,
  "nbformat_minor": 0,
  "metadata": {
    "colab": {
      "provenance": [],
      "authorship_tag": "ABX9TyPAGgBWTk34C9PfRrrTaWtd",
      "include_colab_link": true
    },
    "kernelspec": {
      "name": "python3",
      "display_name": "Python 3"
    },
    "language_info": {
      "name": "python"
    }
  },
  "cells": [
    {
      "cell_type": "markdown",
      "metadata": {
        "id": "view-in-github",
        "colab_type": "text"
      },
      "source": [
        "<a href=\"https://colab.research.google.com/github/surgy100/100-days-of-coding-python/blob/main/Day_1_printing_start.ipynb\" target=\"_parent\"><img src=\"https://colab.research.google.com/assets/colab-badge.svg\" alt=\"Open In Colab\"/></a>"
      ]
    },
    {
      "cell_type": "code",
      "execution_count": 19,
      "metadata": {
        "colab": {
          "base_uri": "https://localhost:8080/"
        },
        "id": "3eywPrHI7zFZ",
        "outputId": "51476fb4-51f9-408f-e455-9a90d008cdd3"
      },
      "outputs": [
        {
          "output_type": "stream",
          "name": "stdout",
          "text": [
            "Hello World!\n"
          ]
        }
      ],
      "source": [
        "print(\"Hello World!\")"
      ]
    },
    {
      "cell_type": "code",
      "source": [
        "print(\"Day 1 - Python Print Function\")\n",
        "print(\"The function is declared like this:\")\n",
        "print(\"print('what to print')\")"
      ],
      "metadata": {
        "colab": {
          "base_uri": "https://localhost:8080/"
        },
        "id": "znGhZxYm_NBc",
        "outputId": "915d36ca-ab36-477d-a5ea-299b259b580c"
      },
      "execution_count": 16,
      "outputs": [
        {
          "output_type": "stream",
          "name": "stdout",
          "text": [
            "Day 1 - Python Print Function\n",
            "The function is declared like this:\n",
            "print('what to print')\n"
          ]
        }
      ]
    },
    {
      "cell_type": "code",
      "source": [
        "print(\"Hello World!\\nHello World!\\nHello World!\")"
      ],
      "metadata": {
        "colab": {
          "base_uri": "https://localhost:8080/"
        },
        "id": "KJtUgripAoqR",
        "outputId": "2bd50f88-b41c-44f3-f74b-31734061842d"
      },
      "execution_count": 20,
      "outputs": [
        {
          "output_type": "stream",
          "name": "stdout",
          "text": [
            "Hello World!\n",
            "Hello World!\n",
            "Hello World!\n"
          ]
        }
      ]
    },
    {
      "cell_type": "markdown",
      "source": [
        "\\n  for new line within printed string"
      ],
      "metadata": {
        "id": "IQzMDMhgBNmm"
      }
    },
    {
      "cell_type": "code",
      "source": [
        "print(\"Hello\"+\" \"+\"Paul\")"
      ],
      "metadata": {
        "colab": {
          "base_uri": "https://localhost:8080/"
        },
        "id": "Vidq4e9_BvRl",
        "outputId": "31e6b60c-755d-4527-c2e3-3c2de73b0552"
      },
      "execution_count": 14,
      "outputs": [
        {
          "output_type": "stream",
          "name": "stdout",
          "text": [
            "Hello Paul\n"
          ]
        }
      ]
    },
    {
      "cell_type": "code",
      "source": [
        "\n",
        "#Fixing the code below\n",
        "\n",
        "print(\"Day 1 - Sring Manipulation\")\n",
        "print('String Concatenation is done with the \"+\" sign.')\n",
        "print('e.g. print(\"Hello \" + \"World!\")')\n",
        "print(\"New lines can be created with a backslash and n.\")"
      ],
      "metadata": {
        "id": "N7qorIQhCE8A",
        "colab": {
          "base_uri": "https://localhost:8080/"
        },
        "outputId": "347ef7bd-10e3-4ec4-fdd8-9412c3220444"
      },
      "execution_count": 21,
      "outputs": [
        {
          "output_type": "stream",
          "name": "stdout",
          "text": [
            "Day 1 - Sring Manipulation\n",
            "String Concatenation is done with the \"+\" sign.\n",
            "e.g. print(\"Hello \" + \"World!\")\n",
            "New lines can be created with a backslash and n.\n"
          ]
        }
      ]
    },
    {
      "cell_type": "code",
      "source": [
        "input(\"What is your name?\")"
      ],
      "metadata": {
        "colab": {
          "base_uri": "https://localhost:8080/",
          "height": 54
        },
        "id": "6TUEF_BdS7_s",
        "outputId": "78e2f09d-6ebf-44bb-9fce-e9389487baea"
      },
      "execution_count": 22,
      "outputs": [
        {
          "name": "stdout",
          "output_type": "stream",
          "text": [
            "What is your name?Paul\n"
          ]
        },
        {
          "output_type": "execute_result",
          "data": {
            "text/plain": [
              "'Paul'"
            ],
            "application/vnd.google.colaboratory.intrinsic+json": {
              "type": "string"
            }
          },
          "metadata": {},
          "execution_count": 22
        }
      ]
    },
    {
      "cell_type": "code",
      "source": [
        "\n",
        "# input() will get user input in console\n",
        "# Then print() will print the work \"Hello\" and the user input\n",
        "print(\"Hello \" + input(\"What is your name?\") +\"!\")"
      ],
      "metadata": {
        "colab": {
          "base_uri": "https://localhost:8080/"
        },
        "id": "2oWdB_fkTCM8",
        "outputId": "ec28dc8c-22f2-48cd-efb3-68ff091b9f54"
      },
      "execution_count": 23,
      "outputs": [
        {
          "output_type": "stream",
          "name": "stdout",
          "text": [
            "What is your name?Joe\n",
            "Hello Joe!\n"
          ]
        }
      ]
    },
    {
      "cell_type": "markdown",
      "source": [
        "You can place the curser on a line and then press the [command] + [/] keys to toggle the line from program to comment status.[command] + [Z] to reverse. (Both seem to toggle back and forth)!"
      ],
      "metadata": {
        "id": "3EMMoIAlTKRg"
      }
    },
    {
      "cell_type": "code",
      "source": [
        "\n",
        "#display length of name, number of characters\n",
        "print(len(input(\"What is your name? \")))"
      ],
      "metadata": {
        "colab": {
          "base_uri": "https://localhost:8080/"
        },
        "id": "ytoGoQ39TNK8",
        "outputId": "9b9e82fd-20b0-412b-f6f7-eb41ebf7ff47"
      },
      "execution_count": 24,
      "outputs": [
        {
          "output_type": "stream",
          "name": "stdout",
          "text": [
            "What is your name? John\n",
            "4\n"
          ]
        }
      ]
    },
    {
      "cell_type": "code",
      "source": [
        "#Using varibles\n",
        "name = input(\"What is your name? \")\n",
        "print(\"Hello \" + name)"
      ],
      "metadata": {
        "colab": {
          "base_uri": "https://localhost:8080/"
        },
        "id": "Q3QbgJPjTTPW",
        "outputId": "9a6e439b-68e6-4ee2-bffa-e40fbe38dfd5"
      },
      "execution_count": 25,
      "outputs": [
        {
          "output_type": "stream",
          "name": "stdout",
          "text": [
            "What is your name? Amy\n",
            "Hello Amy\n"
          ]
        }
      ]
    },
    {
      "cell_type": "code",
      "source": [
        "\n",
        "#Day 1 programing challenge\n",
        "\n",
        "a=input(\"a: \")\n",
        "b=input(\"b: \")\n",
        "\n",
        "#now swap the varibles\n",
        "\n",
        "c = a\n",
        "a = b\n",
        "b = c\n",
        "\n",
        "print (\"a: \" + a)\n",
        "print (\"b: \" + b)"
      ],
      "metadata": {
        "colab": {
          "base_uri": "https://localhost:8080/"
        },
        "id": "lHpiiVYsTeks",
        "outputId": "f6a7c982-937b-42b4-a29b-1449a094e584"
      },
      "execution_count": 26,
      "outputs": [
        {
          "output_type": "stream",
          "name": "stdout",
          "text": [
            "a: 5\n",
            "b: 100\n",
            "a: 100\n",
            "b: 5\n"
          ]
        }
      ]
    }
  ]
}