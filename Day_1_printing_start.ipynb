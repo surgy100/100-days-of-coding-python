{
  "nbformat": 4,
  "nbformat_minor": 0,
  "metadata": {
    "colab": {
      "provenance": [],
      "authorship_tag": "ABX9TyPrVEvfB4MU97x+LRE7wvrC",
      "include_colab_link": true
    },
    "kernelspec": {
      "name": "python3",
      "display_name": "Python 3"
    },
    "language_info": {
      "name": "python"
    }
  },
  "cells": [
    {
      "cell_type": "markdown",
      "metadata": {
        "id": "view-in-github",
        "colab_type": "text"
      },
      "source": [
        "<a href=\"https://colab.research.google.com/github/surgy100/100-days-of-coding-python/blob/main/Day_1_printing_start.ipynb\" target=\"_parent\"><img src=\"https://colab.research.google.com/assets/colab-badge.svg\" alt=\"Open In Colab\"/></a>"
      ]
    },
    {
      "cell_type": "code",
      "execution_count": null,
      "metadata": {
        "colab": {
          "base_uri": "https://localhost:8080/"
        },
        "id": "3eywPrHI7zFZ",
        "outputId": "06dfedde-ce7e-495a-f519-1a4e63148228"
      },
      "outputs": [
        {
          "output_type": "stream",
          "name": "stdout",
          "text": [
            "Hello World!\n"
          ]
        }
      ],
      "source": [
        "print(\"Hello World!\")"
      ]
    },
    {
      "cell_type": "code",
      "source": [
        "print(\"Day 1 - Python Print Function\")\n",
        "print(\"The function is declared like this:\")\n",
        "print(\"print('what to print')\")"
      ],
      "metadata": {
        "colab": {
          "base_uri": "https://localhost:8080/"
        },
        "id": "znGhZxYm_NBc",
        "outputId": "b532029f-296c-44ce-f7c2-61b407e03a11"
      },
      "execution_count": null,
      "outputs": [
        {
          "output_type": "stream",
          "name": "stdout",
          "text": [
            "Day 1 - Python Print Function\n",
            "The function is declared like this:\n",
            "print('what to print')\n"
          ]
        }
      ]
    },
    {
      "cell_type": "code",
      "source": [
        "print(\"Hello World!\\nHello World!\\nHello World!\")"
      ],
      "metadata": {
        "colab": {
          "base_uri": "https://localhost:8080/"
        },
        "id": "KJtUgripAoqR",
        "outputId": "959a7342-457a-430b-fa30-f22cc20cc99a"
      },
      "execution_count": null,
      "outputs": [
        {
          "output_type": "stream",
          "name": "stdout",
          "text": [
            "Hello World!\n",
            "Hello World!\n",
            "Hello World!\n"
          ]
        }
      ]
    },
    {
      "cell_type": "markdown",
      "source": [
        "\\n  for new line within printed string"
      ],
      "metadata": {
        "id": "IQzMDMhgBNmm"
      }
    },
    {
      "cell_type": "code",
      "source": [
        "print(\"Hello\"+\" \"+\"Paul\")"
      ],
      "metadata": {
        "colab": {
          "base_uri": "https://localhost:8080/"
        },
        "id": "Vidq4e9_BvRl",
        "outputId": "c78f6ed2-1302-4caf-e9b1-022d6634b70e"
      },
      "execution_count": null,
      "outputs": [
        {
          "output_type": "stream",
          "name": "stdout",
          "text": [
            "Hello Paul\n"
          ]
        }
      ]
    },
    {
      "cell_type": "code",
      "source": [
        "\n",
        "#Fixing the code below\n",
        "\n",
        "print(\"Day 1 - Sring Manipulation\")\n",
        "print('String Concatenation is done with the \"+\" sign.')\n",
        "print('e.g. print(\"Hello \" + \"World!\")')\n",
        "print(\"New lines can be created with a backslash and n.\")"
      ],
      "metadata": {
        "id": "N7qorIQhCE8A",
        "colab": {
          "base_uri": "https://localhost:8080/"
        },
        "outputId": "6b15ffab-c2c3-4126-9749-5f45fdfae23d"
      },
      "execution_count": null,
      "outputs": [
        {
          "output_type": "stream",
          "name": "stdout",
          "text": [
            "Day 1 - Sring Manipulation\n",
            "String Concatenation is done with the \"+\" sign.\n",
            "e.g. print(\"Hello \" + \"World!\")\n",
            "New lines can be created with a backslash and n.\n"
          ]
        }
      ]
    },
    {
      "cell_type": "code",
      "source": [
        "input(\"What is your name?\")"
      ],
      "metadata": {
        "colab": {
          "base_uri": "https://localhost:8080/",
          "height": 54
        },
        "id": "6TUEF_BdS7_s",
        "outputId": "fd33cc82-3e01-4f55-bed6-e47e34ff5ceb"
      },
      "execution_count": null,
      "outputs": [
        {
          "name": "stdout",
          "output_type": "stream",
          "text": [
            "What is your name?Jane\n"
          ]
        },
        {
          "output_type": "execute_result",
          "data": {
            "text/plain": [
              "'Jane'"
            ],
            "application/vnd.google.colaboratory.intrinsic+json": {
              "type": "string"
            }
          },
          "metadata": {},
          "execution_count": 6
        }
      ]
    },
    {
      "cell_type": "code",
      "source": [
        "\n",
        "# input() will get user input in console\n",
        "# Then print() will print the work \"Hello\" and the user input\n",
        "print(\"Hello \" + input(\"What is your name?\") +\"!\")"
      ],
      "metadata": {
        "colab": {
          "base_uri": "https://localhost:8080/"
        },
        "id": "2oWdB_fkTCM8",
        "outputId": "1242be47-7532-4d9b-b2fc-67f32205a295"
      },
      "execution_count": null,
      "outputs": [
        {
          "output_type": "stream",
          "name": "stdout",
          "text": [
            "What is your name?Jim\n",
            "Hello Jim!\n"
          ]
        }
      ]
    },
    {
      "cell_type": "markdown",
      "source": [
        "You can place the curser on a line and then press the [command] + [/] keys to toggle the line from program to comment status.[command] + [Z] to reverse. (Both seem to toggle back and forth)!"
      ],
      "metadata": {
        "id": "3EMMoIAlTKRg"
      }
    },
    {
      "cell_type": "code",
      "source": [
        "\n",
        "#display length of name, number of characters\n",
        "print(len(input(\"What is your name? \")))"
      ],
      "metadata": {
        "colab": {
          "base_uri": "https://localhost:8080/"
        },
        "id": "ytoGoQ39TNK8",
        "outputId": "2d85f9d3-ef38-4e96-8bfd-ed8df9e51c00"
      },
      "execution_count": null,
      "outputs": [
        {
          "output_type": "stream",
          "name": "stdout",
          "text": [
            "What is your name? Timothy\n",
            "7\n"
          ]
        }
      ]
    },
    {
      "cell_type": "code",
      "source": [
        "#Using varibles\n",
        "name = input(\"What is your name? \")\n",
        "print(\"Hello \" + name)"
      ],
      "metadata": {
        "colab": {
          "base_uri": "https://localhost:8080/"
        },
        "id": "Q3QbgJPjTTPW",
        "outputId": "d44c0a26-4342-4f29-db39-77e72473c161"
      },
      "execution_count": null,
      "outputs": [
        {
          "output_type": "stream",
          "name": "stdout",
          "text": [
            "What is your name? Peter\n",
            "Hello Peter\n"
          ]
        }
      ]
    },
    {
      "cell_type": "code",
      "source": [
        "\n",
        "#Day 1 programing challenge\n",
        "\n",
        "a=input(\"a: \")\n",
        "b=input(\"b: \")\n",
        "\n",
        "#now swap the varibles\n",
        "\n",
        "c = a\n",
        "a = b\n",
        "b = c\n",
        "\n",
        "print (\"a: \" + a)\n",
        "print (\"b: \" + b)"
      ],
      "metadata": {
        "colab": {
          "base_uri": "https://localhost:8080/"
        },
        "id": "lHpiiVYsTeks",
        "outputId": "b246c630-7264-4a7b-cd07-ca34ff1c62cc"
      },
      "execution_count": null,
      "outputs": [
        {
          "output_type": "stream",
          "name": "stdout",
          "text": [
            "a: 5\n",
            "b: 100\n",
            "a: 100\n",
            "b: 5\n"
          ]
        }
      ]
    },
    {
      "cell_type": "code",
      "source": [
        "#1 Create a greeting for your program.\n",
        "print(\"Welcome to the Band Name Generator.\")\n",
        "#2 Ask the user for the city that they grew up in.\n",
        "city = input(\"What is the name of the city you grew up in?\\n\")\n",
        "#3 Ask the user for the name of a pet.\n",
        "pet = input(\"What's your pet's name?\\n\")\n",
        "#4 Combine the name of their city and pet and show them their band name.\n",
        "print(\"Your band name could be \" + city + \" \" + pet)\n",
        "#5 Make sure the input cursor shows on a new line.\n",
        "\n"
      ],
      "metadata": {
        "colab": {
          "base_uri": "https://localhost:8080/"
        },
        "id": "06Dcd8Zsiuk3",
        "outputId": "6b4626ac-07d6-4785-cdf5-a9ccf9005686"
      },
      "execution_count": null,
      "outputs": [
        {
          "output_type": "stream",
          "name": "stdout",
          "text": [
            "Welcome to the Band Name Generator.\n",
            "What is the name of the city you grew up in?\n",
            "Kazoo\n",
            "What's your pet's name?\n",
            "Bibbs\n",
            "Your band name could be Kazoo Bibbs\n"
          ]
        }
      ]
    }
  ]
}