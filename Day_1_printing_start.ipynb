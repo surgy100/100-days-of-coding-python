{
  "nbformat": 4,
  "nbformat_minor": 0,
  "metadata": {
    "colab": {
      "provenance": [],
      "authorship_tag": "ABX9TyPeaZ/IcD19wWg3Woi+Yj0X",
      "include_colab_link": true
    },
    "kernelspec": {
      "name": "python3",
      "display_name": "Python 3"
    },
    "language_info": {
      "name": "python"
    }
  },
  "cells": [
    {
      "cell_type": "markdown",
      "metadata": {
        "id": "view-in-github",
        "colab_type": "text"
      },
      "source": [
        "<a href=\"https://colab.research.google.com/github/surgy100/100-days-of-coding-python/blob/main/Day_1_printing_start.ipynb\" target=\"_parent\"><img src=\"https://colab.research.google.com/assets/colab-badge.svg\" alt=\"Open In Colab\"/></a>"
      ]
    },
    {
      "cell_type": "code",
      "execution_count": null,
      "metadata": {
        "colab": {
          "base_uri": "https://localhost:8080/"
        },
        "id": "3eywPrHI7zFZ",
        "outputId": "95656497-6058-4b93-ba14-2ea530214166"
      },
      "outputs": [
        {
          "output_type": "stream",
          "name": "stdout",
          "text": [
            "Hello World!\n"
          ]
        }
      ],
      "source": [
        "print(\"Hello World!\")"
      ]
    },
    {
      "cell_type": "code",
      "source": [
        "print(\"Day 1 - Python Print Function\")\n",
        "print(\"The function is declared like this:\")\n",
        "print(\"print('what to print')\")"
      ],
      "metadata": {
        "colab": {
          "base_uri": "https://localhost:8080/"
        },
        "id": "znGhZxYm_NBc",
        "outputId": "65055cc0-a4bc-4e4c-bf49-2094ebb739f5"
      },
      "execution_count": null,
      "outputs": [
        {
          "output_type": "stream",
          "name": "stdout",
          "text": [
            "Day 1 - Python Print Function\n",
            "The function is declared like this:\n",
            "print('what to print')\n"
          ]
        }
      ]
    },
    {
      "cell_type": "code",
      "source": [
        "print(\"Hello World!\\nHello World!\\nHello World!\")"
      ],
      "metadata": {
        "colab": {
          "base_uri": "https://localhost:8080/"
        },
        "id": "KJtUgripAoqR",
        "outputId": "eebb33d9-48ff-48f6-c991-a41c697831cb"
      },
      "execution_count": null,
      "outputs": [
        {
          "output_type": "stream",
          "name": "stdout",
          "text": [
            "Hello World!\n",
            "Hello World!\n",
            "Hello World!\n"
          ]
        }
      ]
    },
    {
      "cell_type": "markdown",
      "source": [
        "\\n  for new line within printed string"
      ],
      "metadata": {
        "id": "IQzMDMhgBNmm"
      }
    },
    {
      "cell_type": "code",
      "source": [
        "print(\"Hello\"+\" \"+\"Paul\")"
      ],
      "metadata": {
        "colab": {
          "base_uri": "https://localhost:8080/"
        },
        "id": "Vidq4e9_BvRl",
        "outputId": "ee25beb0-ebf1-4f2d-ca1f-8d6697b640a3"
      },
      "execution_count": 1,
      "outputs": [
        {
          "output_type": "stream",
          "name": "stdout",
          "text": [
            "Hello Paul\n"
          ]
        }
      ]
    },
    {
      "cell_type": "code",
      "source": [
        "#Fixing the code below\n",
        "\n",
        "print(\"Day 1 - Sring Manipulation\")\n",
        "print('String Concatenation is done with the \"+\" sign.')\n",
        "print('e.g. print(\"Hello \" + \"World!\")')\n",
        "print(\"New lines can be created with a backslash and n.\")\n"
      ],
      "metadata": {
        "id": "N7qorIQhCE8A",
        "outputId": "5afc6583-accc-4f09-d523-847bad8213b8",
        "colab": {
          "base_uri": "https://localhost:8080/"
        }
      },
      "execution_count": 3,
      "outputs": [
        {
          "output_type": "stream",
          "name": "stdout",
          "text": [
            "Day 1 - Sring Manipulation\n",
            "String Concatenation is done with the \"+\" sign.\n",
            "e.g. print(\"Hello \" + \"World!\")\n",
            "New lines can be created with a backslash and n.\n"
          ]
        }
      ]
    },
    {
      "cell_type": "code",
      "source": [
        "input(\"What is your name?\")"
      ],
      "metadata": {
        "id": "sTV2NLDc6OND",
        "outputId": "40d8bf73-61eb-44b4-83a0-45c5c67a0411",
        "colab": {
          "base_uri": "https://localhost:8080/",
          "height": 54
        }
      },
      "execution_count": 6,
      "outputs": [
        {
          "name": "stdout",
          "output_type": "stream",
          "text": [
            "What is your name?Paul\n"
          ]
        },
        {
          "output_type": "execute_result",
          "data": {
            "text/plain": [
              "'Paul'"
            ],
            "application/vnd.google.colaboratory.intrinsic+json": {
              "type": "string"
            }
          },
          "metadata": {},
          "execution_count": 6
        }
      ]
    },
    {
      "cell_type": "code",
      "source": [
        "# input() will get user input in console\n",
        "# Then print() will print the work \"Hello\" and the user input\n",
        "print(\"Hello \" + input(\"What is your name?\") +\"!\")"
      ],
      "metadata": {
        "id": "Gzo4SUXM6-jI",
        "outputId": "204a17d7-6e3b-4815-ec57-a98345166c11",
        "colab": {
          "base_uri": "https://localhost:8080/"
        }
      },
      "execution_count": 8,
      "outputs": [
        {
          "output_type": "stream",
          "name": "stdout",
          "text": [
            "What is your name?Paul\n",
            "Hello Paul!\n"
          ]
        }
      ]
    },
    {
      "cell_type": "markdown",
      "source": [
        "You can place the curser on a line and then press the [command] + [/] keys to toggle the line from program to comment status.[command] + [Z] to reverse. (Both seem to toggle back and forth)!"
      ],
      "metadata": {
        "id": "bVK6-f82Bz0D"
      }
    },
    {
      "cell_type": "code",
      "source": [
        "#display length of name, number of characters\n",
        "print(len(input(\"What is your name? \")))"
      ],
      "metadata": {
        "id": "_pPAyRRyE6U5",
        "outputId": "b214b2ca-59b2-496c-d8b6-28b482f5a2f8",
        "colab": {
          "base_uri": "https://localhost:8080/"
        }
      },
      "execution_count": 9,
      "outputs": [
        {
          "output_type": "stream",
          "name": "stdout",
          "text": [
            "What is your name? Paul\n",
            "4\n"
          ]
        }
      ]
    },
    {
      "cell_type": "code",
      "source": [
        "#Using varibles\n",
        "name = input(\"What is your name? \")\n",
        "print(\"Hello \" + name)"
      ],
      "metadata": {
        "id": "fK_H7P20Hc3E",
        "outputId": "af92890d-a3c0-4293-988c-0cca3acb0391",
        "colab": {
          "base_uri": "https://localhost:8080/"
        }
      },
      "execution_count": 11,
      "outputs": [
        {
          "output_type": "stream",
          "name": "stdout",
          "text": [
            "What is your name? John\n",
            "Hello John\n"
          ]
        }
      ]
    },
    {
      "cell_type": "code",
      "source": [
        "#Day 1 programing challenge\n",
        "\n",
        "a=input(\"a: \")\n",
        "b=input(\"b: \")\n",
        "\n",
        "#now swap the varibles\n",
        "\n",
        "c = a\n",
        "a = b\n",
        "b = c\n",
        "\n",
        "print (\"a: \" + a)\n",
        "print (\"b: \" + b)"
      ],
      "metadata": {
        "id": "yxcTXfMRJNp0",
        "outputId": "31d91f31-13ac-4e9f-d65d-30a1024e23d5",
        "colab": {
          "base_uri": "https://localhost:8080/"
        }
      },
      "execution_count": 12,
      "outputs": [
        {
          "output_type": "stream",
          "name": "stdout",
          "text": [
            "a: 5\n",
            "b: 100\n",
            "a: 100\n",
            "b: 5\n"
          ]
        }
      ]
    }
  ]
}